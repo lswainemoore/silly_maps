{
 "cells": [
  {
   "cell_type": "code",
   "execution_count": 8,
   "id": "008216a2",
   "metadata": {},
   "outputs": [],
   "source": [
    "import shapefile as shp\n",
    "import matplotlib.pyplot as plt\n",
    "%matplotlib inline"
   ]
  },
  {
   "cell_type": "code",
   "execution_count": 40,
   "id": "b70a93a3",
   "metadata": {},
   "outputs": [],
   "source": [
    "# see: https://stackoverflow.com/a/40494165\n",
    "\n",
    "import geopandas as gpd\n",
    "import psycopg2  # (if it is postgres/postgis)\n",
    "\n",
    "con = psycopg2.connect(\n",
    "    database=\"silly_maps\", \n",
    "    user=\"lsm\",\n",
    "    host=\"localhost\",\n",
    ")\n",
    "\n",
    "sql = \"\"\"\n",
    "select \n",
    "  geom,\n",
    "  tractid10, \n",
    "  least(\n",
    "    floor(\n",
    "      sum(pop10) over (\n",
    "        partition by '1' \n",
    "        order by dist desc\n",
    "      )/(\n",
    "        (\n",
    "          select sum(pop10) \n",
    "          from tl_2010_51_tract10\n",
    "        ) \n",
    "        / 11.\n",
    "      )\n",
    "    ),\n",
    "    11 - 1\n",
    "  ) as distance_district\n",
    "from\n",
    "(\n",
    "  select  \n",
    "    tracts.geom as geom,\n",
    "    tracts.countyfp10 || '-' || tracts.tractce10 as tractid10,\n",
    "    pop10,\n",
    "    st_distance(\n",
    "      tracts.center, \n",
    "      states.center\n",
    "    ) as dist\n",
    "  from\n",
    "    tl_2010_51_tract10 tracts\n",
    "    left join cb_2018_us_state_500k states\n",
    "    on states.name = 'Virginia'\n",
    ") sub\n",
    "\"\"\"\n",
    "\n",
    "df = gpd.GeoDataFrame.from_postgis(sql, con, geom_col='geom' )"
   ]
  },
  {
   "cell_type": "code",
   "execution_count": 58,
   "id": "1f2b8b1e",
   "metadata": {
    "scrolled": true
   },
   "outputs": [
    {
     "data": {
      "image/png": "[encoded data removed]",
      "text/plain": [
       "<Figure size 432x288 with 1 Axes>"
      ]
     },
     "metadata": {
      "needs_background": "light"
     },
     "output_type": "display_data"
    }
   ],
   "source": [
    "plt = df.plot(column='distance_district', cmap='tab10', antialiased=False)\n",
    "plt.axis('off')\n",
    "plt.get_figure().savefig(\"output.png\", dpi=1080)"
   ]
  }
 ],
 "metadata": {
  "kernelspec": {
   "display_name": "Python 3",
   "language": "python",
   "name": "python3"
  },
  "language_info": {
   "codemirror_mode": {
    "name": "ipython",
    "version": 3
   },
   "file_extension": ".py",
   "mimetype": "text/x-python",
   "name": "python",
   "nbconvert_exporter": "python",
   "pygments_lexer": "ipython3",
   "version": "3.9.1"
  }
 },
 "nbformat": 4,
 "nbformat_minor": 5
}
